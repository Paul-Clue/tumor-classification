{
 "cells": [
  {
   "cell_type": "code",
   "execution_count": 33,
   "metadata": {},
   "outputs": [],
   "source": [
    "import os\n",
    "import pandas as pd\n",
    "import numpy as np\n",
    "import matplotlib.pyplot as plt\n",
    "import seaborn as sns"
   ]
  },
  {
   "cell_type": "code",
   "execution_count": 34,
   "metadata": {},
   "outputs": [],
   "source": [
    "def get_class_paths(path):\n",
    "  classes = []\n",
    "  class_paths = []\n",
    "\n",
    "  # Iterate through directories in the training path\n",
    "  for label in os.listdir(path):\n",
    "    label_path = os.path.join(path, label)\n",
    "\n",
    "    # Check if it's a directory\n",
    "    if os.path.isdir(label_path):\n",
    "      # Iterate through images in the label directory\n",
    "      for image in os.listdir(label_path):\n",
    "        image_path = os.path.join(label_path, image)\n",
    "\n",
    "        # Add class and path to restrictive lists\n",
    "        classes.append(label)\n",
    "        class_paths.append(image_path)\n",
    "\n",
    "  # Create a DataFrame with the collected data\n",
    "  df = pd.DataFrame({\n",
    "      'Class Path': class_paths,\n",
    "      'Class': classes\n",
    "  })\n",
    "\n",
    "  return df"
   ]
  },
  {
   "cell_type": "code",
   "execution_count": 35,
   "metadata": {},
   "outputs": [],
   "source": [
    "tr_df = get_class_paths(\"Training\")"
   ]
  },
  {
   "cell_type": "code",
   "execution_count": null,
   "metadata": {},
   "outputs": [],
   "source": [
    "tr_df"
   ]
  },
  {
   "cell_type": "code",
   "execution_count": 36,
   "metadata": {},
   "outputs": [],
   "source": [
    "ts_df = get_class_paths(\"Testing\")"
   ]
  },
  {
   "cell_type": "code",
   "execution_count": null,
   "metadata": {},
   "outputs": [],
   "source": [
    "ts_df\n"
   ]
  },
  {
   "cell_type": "code",
   "execution_count": null,
   "metadata": {},
   "outputs": [],
   "source": [
    "plt.figure(figsize=(15, 7))\n",
    "ax = sns.countplot(data=tr_df, x=tr_df[\"Class\"])"
   ]
  },
  {
   "cell_type": "code",
   "execution_count": null,
   "metadata": {},
   "outputs": [],
   "source": [
    "plt.figure(figsize=(15, 7))\n",
    "ax = sns.countplot(data=ts_df, x=ts_df[\"Class\"])"
   ]
  },
  {
   "cell_type": "code",
   "execution_count": 39,
   "metadata": {},
   "outputs": [],
   "source": [
    "# !pip install scikit-learn\n",
    "from sklearn.model_selection import train_test_split\n",
    "from sklearn.metrics import classification_report, confusion_matrix\n",
    "import tensorflow as tf\n",
    "from tensorflow.keras.models import Sequential\n",
    "from tensorflow.keras.layers import Dense, Dropout, Flatten\n",
    "from tensorflow.keras.optimizers import Adamax\n",
    "from tensorflow.keras.metrics import Precision, Recall\n",
    "from tensorflow.keras.preprocessing.image import ImageDataGenerator"
   ]
  },
  {
   "cell_type": "code",
   "execution_count": 40,
   "metadata": {},
   "outputs": [],
   "source": [
    "valid_df, ts_df = train_test_split(ts_df, train_size=0.5, stratify=ts_df['Class'])"
   ]
  },
  {
   "cell_type": "code",
   "execution_count": null,
   "metadata": {},
   "outputs": [],
   "source": [
    "valid_df"
   ]
  },
  {
   "cell_type": "code",
   "execution_count": null,
   "metadata": {},
   "outputs": [],
   "source": [
    "ts_df"
   ]
  },
  {
   "cell_type": "code",
   "execution_count": 43,
   "metadata": {},
   "outputs": [],
   "source": [
    "batch_size = 32\n",
    "\n",
    "img_size = (299, 299)\n",
    "\n",
    "image_generator = ImageDataGenerator(rescale=1/255, brightness_range=(0.8, 1.2))\n",
    "\n",
    "ts_gen = ImageDataGenerator(rescale=1/255)"
   ]
  },
  {
   "cell_type": "code",
   "execution_count": null,
   "metadata": {},
   "outputs": [],
   "source": [
    "tr_gen = image_generator.flow_from_dataframe(tr_df, x_col='Class Path', y_col='Class', batch_size=batch_size, target_size=img_size)\n",
    "\n",
    "valid_gen = image_generator.flow_from_dataframe(valid_df, x_col='Class Path', y_col='Class', batch_size=batch_size, target_size=img_size)\n",
    "\n",
    "ts_gen = ts_gen.flow_from_dataframe(ts_df, x_col='Class Path', y_col='Class', batch_size=16, target_size=img_size, shuffle=False)"
   ]
  },
  {
   "cell_type": "code",
   "execution_count": null,
   "metadata": {},
   "outputs": [],
   "source": [
    "plt.figure(figsize=(20, 20))\n",
    "for i in range (16):\n",
    "  plt.subplot(4, 4, i+1)\n",
    "  batch = next(tr_gen)\n",
    "  image = batch[0][0]\n",
    "  label = batch[1][0]\n",
    "  plt.imshow(image)\n",
    "\n",
    "  # Get the class index\n",
    "  class_index = np.argmax(label)\n",
    "\n",
    "  # Get the list of class names and class indeies\n",
    "  class_names = list(tr_gen.class_indices.keys())\n",
    "  class_indices = list(tr_gen.class_indices.values())\n",
    "\n",
    "  # Find the index of the class_index in the list of indices\n",
    "  index_position = class_indices.index(class_index)\n",
    "\n",
    "  # Get the class name using the index position\n",
    "  class_name = class_names[index_position]\n",
    "\n",
    "  plt.title(f\"Class: {class_name}\")\n",
    "  plt.axis('off')\n",
    "plt.tight_layout()\n",
    "plt.show()"
   ]
  },
  {
   "cell_type": "code",
   "execution_count": 46,
   "metadata": {},
   "outputs": [],
   "source": [
    "img_shape = (299, 299, 3)\n",
    "\n",
    "base_model = tf.keras.applications.Xception(include_top=False, weights=\"imagenet\", input_shape= img_shape, pooling='max')\n",
    "\n",
    "model = Sequential([base_model, Flatten(), Dropout(rate= 0.3), Dense(128, activation= 'relu'), Dropout(rate= 0.25), Dense(4, activation= 'softmax')])"
   ]
  },
  {
   "cell_type": "code",
   "execution_count": 47,
   "metadata": {},
   "outputs": [],
   "source": [
    "model.compile(Adamax(learning_rate= 0.001), loss= 'categorical_crossentropy', metrics= ['accuracy', Precision(), Recall()])"
   ]
  },
  {
   "cell_type": "code",
   "execution_count": null,
   "metadata": {},
   "outputs": [],
   "source": [
    "hist = model.fit(tr_gen, epochs=5, validation_data=valid_gen)"
   ]
  },
  {
   "cell_type": "code",
   "execution_count": null,
   "metadata": {},
   "outputs": [],
   "source": [
    "hist.history.keys()"
   ]
  },
  {
   "cell_type": "code",
   "execution_count": null,
   "metadata": {},
   "outputs": [],
   "source": [
    "  # Get training and validation metrics from history\n",
    "metrics = ['accuracy', 'precision', 'loss', 'recall']  \n",
    "tr_metrics = {m: hist.history[m] for m in metrics}\n",
    "val_metrics = {m: hist.history[f'val_{m}'] for m in metrics}\n",
    "\n",
    "# Find best epochs and values\n",
    "best_epochs = {}\n",
    "best_values = {}\n",
    "for m in metrics:\n",
    "    if m == 'loss':\n",
    "        idx = np.argmin(val_metrics[m])\n",
    "    else:\n",
    "        idx = np.argmax(val_metrics[m])\n",
    "    best_epochs[m] = idx + 1\n",
    "    best_values[m] = val_metrics[m][idx]\n",
    "\n",
    "# Plot metrics\n",
    "plt.figure(figsize=(20, 12))\n",
    "plt.style.use('fivethirtyeight')\n",
    "\n",
    "for i, metric in enumerate(metrics, 1):\n",
    "    plt.subplot(2, 2, i)\n",
    "    epochs = range(1, len(tr_metrics[metric]) + 1)\n",
    "    \n",
    "    plt.plot(epochs, tr_metrics[metric], 'r', label=f'Training {metric}')\n",
    "    plt.plot(epochs, val_metrics[metric], 'g', label=f'Validation {metric}')\n",
    "    plt.scatter(best_epochs[metric], best_values[metric], s=150, c='blue', \n",
    "                label=f'Best epoch = {best_epochs[metric]}')\n",
    "    \n",
    "    plt.title(f'Training and Validation {metric.title()}')\n",
    "    plt.xlabel('Epochs')\n",
    "    plt.ylabel(metric.title())\n",
    "    plt.legend()\n",
    "    plt.grid(True)\n",
    "\n",
    "plt.suptitle('Model Training Metrics Over Epochs', fontsize=16)\n",
    "plt.tight_layout()\n",
    "plt.show()"
   ]
  },
  {
   "cell_type": "code",
   "execution_count": null,
   "metadata": {},
   "outputs": [],
   "source": [
    "train_score = model.evaluate(tr_gen, verbose=1)\n",
    "valid_score = model.evaluate(valid_gen, verbose=1)\n",
    "test_score = model.evaluate(ts_gen, verbose=1)\n",
    "\n",
    "print(f\"Training Accuracy: {train_score[1]*100:.2f}%\")\n",
    "print(f\"Validation Loss: {valid_score[0]:.4f}\")\n",
    "print(f\"\\n\\nValidation Accuracy: {valid_score[1]*100:.2f}%\")\n",
    "print(f\"Validation Loss: {valid_score[0]:.4f}\")\n",
    "print(f\"\\n\\nTest Accuracy: {test_score[1]*100:.2f}%\")\n",
    "print(f\"Testing Loss: {test_score[0]:.4f}\")\n"
   ]
  },
  {
   "cell_type": "code",
   "execution_count": null,
   "metadata": {},
   "outputs": [],
   "source": [
    "preds = model.predict(ts_gen)\n",
    "y_pred = np.argmax(preds, axis=1)\n",
    "\n",
    "class_dict = {\n",
    "  0: 'glioma',\n",
    "  1: 'meningioma',\n",
    "  2: 'no_tumor',\n",
    "  3: 'pituitary'\n",
    "}\n",
    "\n",
    "# Then create a display the confusion matrix\n",
    "cm = confusion_matrix(ts_gen.classes, y_pred)\n",
    "labels = list(class_dict.keys())\n",
    "plt.figure(figsize=(10, 8))\n",
    "sns.heatmap(cm, annot=True, fmt='d', cmap='Blues', xticklabels=labels, yticklabels=labels)\n",
    "plt.xlabel('Predicted Label')\n",
    "plt.ylabel('True Label')\n",
    "plt.title('Confusion Matrix')\n",
    "plt.show()"
   ]
  },
  {
   "cell_type": "code",
   "execution_count": 26,
   "metadata": {},
   "outputs": [],
   "source": [
    "from PIL import Image\n",
    "\n",
    "def predict(img_path: str) -> None:\n",
    "  # Get class labels\n",
    "  labels = list(class_dict.keys())\n",
    "\n",
    "  # Load a process image\n",
    "  img = Image.open(img_path)\n",
    "  resized_image = img.resize((299, 299))\n",
    "  img_array = np.asarray(resized_image)\n",
    "  img_array = np.expand_dims(img_array, axis=0) / 255.0\n",
    "\n",
    "  # Get model predictions\n",
    "  predictions = model.predict(img_array)\n",
    "  probabilities = list(predictions[0])\n",
    "\n",
    "  # Get Predicted class\n",
    "  predicted_class_idx = np.argmax(probabilities)\n",
    "  predicted_class = class_dict[predicted_class_idx]\n",
    "\n",
    "  # Plot original image\n",
    "  plt.subplot(2, 1, 1)\n",
    "  plt.imshow(resized_image)\n",
    "  plt.title(f\"Input MRI Image\\nPredicted: {predicted_class}\")\n",
    "\n",
    "  # Plot prediction probabilities\n",
    "  plt.subplot(2, 1, 2)\n",
    "  bars = plt.barh(labels, probabilities)\n",
    "  plt.xlabel(\"Probability\", fontsize=15)\n",
    "  plt.title(\"Class Probabilities\")\n",
    "\n",
    "  # Add probability labels to bars\n",
    "  ax = plt.gca()\n",
    "  ax.bar_label(bars, fmt='%.2f')\n",
    "\n",
    "  plt.tight_layout()\n",
    "  plt.show()\n",
    "\n",
    "  print(f\"\\nPredicted tumor type: {predicted_class}\")\n"
   ]
  },
  {
   "cell_type": "code",
   "execution_count": null,
   "metadata": {},
   "outputs": [],
   "source": [
    "predict(\"Testing/meningioma/Te-me_0011.jpg\")"
   ]
  },
  {
   "cell_type": "code",
   "execution_count": null,
   "metadata": {},
   "outputs": [],
   "source": [
    "predict(\"Testing/meningioma/Te-me_0015.jpg\")"
   ]
  },
  {
   "cell_type": "code",
   "execution_count": null,
   "metadata": {},
   "outputs": [],
   "source": [
    "predict(\"Testing/glioma/Te-gl_0010.jpg\")"
   ]
  },
  {
   "cell_type": "code",
   "execution_count": 30,
   "metadata": {},
   "outputs": [],
   "source": [
    "model.save_weights(\"xception_model.weights.h5\")\n"
   ]
  },
  {
   "cell_type": "code",
   "execution_count": 49,
   "metadata": {},
   "outputs": [],
   "source": [
    "from tensorflow.keras.layers import Conv2D, MaxPooling2D\n",
    "from tensorflow.keras import regularizers\n"
   ]
  },
  {
   "cell_type": "code",
   "execution_count": null,
   "metadata": {},
   "outputs": [],
   "source": [
    "batch_size = 16\n",
    "\n",
    "img_size = (224, 224)\n",
    "\n",
    "\n",
    "image_generator = ImageDataGenerator(rescale=1/255, brightness_range=(0.8, 1.2))\n",
    "\n",
    "ts_gen = ImageDataGenerator(rescale=1/255)\n",
    "\n",
    "tr_gen = image_generator.flow_from_dataframe(tr_df, x_col='Class Path', y_col='Class', batch_size=batch_size, target_size=img_size)\n",
    "\n",
    "valid_gen = image_generator.flow_from_dataframe(valid_df, x_col='Class Path', y_col='Class', batch_size=batch_size, target_size=img_size)\n",
    "\n",
    "ts_gen = ts_gen.flow_from_dataframe(ts_df, x_col='Class Path', y_col='Class', batch_size=16, target_size=img_size, shuffle=False)"
   ]
  },
  {
   "cell_type": "code",
   "execution_count": null,
   "metadata": {},
   "outputs": [],
   "source": [
    "# Create a sequential model\n",
    "\n",
    "cnm_model = Sequential()\n",
    "\n",
    "# Convolution Layers\n",
    "cnm_model.add(Conv2D(512, (3, 3), padding= 'same', input_shape=(224, 224, 3), activation= 'relu'))\n",
    "cnm_model.add(MaxPooling2D(pool_size=(2, 2)))\n",
    "\n",
    "cnm_model.add(Conv2D(256, (3, 3), padding= 'same', activation= 'relu'))\n",
    "cnm_model.add(MaxPooling2D(pool_size=(2, 2)))\n",
    "cnm_model.add(Dropout(0.25))\n",
    "\n",
    "cnm_model.add(Conv2D(128, (3, 3), padding= 'same', activation= 'relu'))\n",
    "cnm_model.add(MaxPooling2D(pool_size=(2, 2)))\n",
    "cnm_model.add(Dropout(0.25))\n",
    "\n",
    "cnm_model.add(Conv2D(64, (3, 3), padding= 'same', activation= 'relu'))\n",
    "cnm_model.add(MaxPooling2D(pool_size=(2, 2)))\n",
    "\n",
    "# Flatten the output for fully connected layers\n",
    "cnm_model.add(Flatten())\n",
    "\n",
    "# Fully connected layers\n",
    "cnm_model.add(Dense(256, activation= 'relu', kernel_regularizer= regularizers.l2(0.01)))\n",
    "cnm_model.add(Dropout(0.35))\n",
    "\n",
    "# Output layer with 4 neurons for the 4 classes\n",
    "cnm_model.add(Dense(4, activation='softmax'))\n",
    "\n",
    "# Compile the model\n",
    "cnm_model.compile(Adamax(learning_rate= 0.001), loss= 'categorical_crossentropy', metrics= ['accuracy', Precision(), Recall()])\n",
    "\n",
    "# Display the model summary\n",
    "cnm_model.summary()"
   ]
  },
  {
   "cell_type": "code",
   "execution_count": null,
   "metadata": {},
   "outputs": [],
   "source": [
    "history = cnm_model.fit(tr_gen, epochs=5, validation_data=valid_gen)"
   ]
  },
  {
   "cell_type": "code",
   "execution_count": null,
   "metadata": {},
   "outputs": [],
   "source": [
    "history.history.keys()"
   ]
  },
  {
   "cell_type": "code",
   "execution_count": null,
   "metadata": {},
   "outputs": [],
   "source": [
    "  # Get training and validation metrics from history\n",
    "metrics = ['accuracy', 'precision_3', 'loss', 'recall_3']  \n",
    "tr_metrics = {m: history.history[m] for m in metrics}\n",
    "val_metrics = {m: history.history[f'val_{m}'] for m in metrics}\n",
    "\n",
    "# Find best epochs and values\n",
    "best_epochs = {}\n",
    "best_values = {}\n",
    "for m in metrics:\n",
    "    if m == 'loss':\n",
    "        idx = np.argmin(val_metrics[m])\n",
    "    else:\n",
    "        idx = np.argmax(val_metrics[m])\n",
    "    best_epochs[m] = idx + 1\n",
    "    best_values[m] = val_metrics[m][idx]\n",
    "\n",
    "# Plot metrics\n",
    "plt.figure(figsize=(20, 12))\n",
    "plt.style.use('fivethirtyeight')\n",
    "\n",
    "for i, metric in enumerate(metrics, 1):\n",
    "    plt.subplot(2, 2, i)\n",
    "    epochs = range(1, len(tr_metrics[metric]) + 1)\n",
    "    \n",
    "    plt.plot(epochs, tr_metrics[metric], 'r', label=f'Training {metric}')\n",
    "    plt.plot(epochs, val_metrics[metric], 'g', label=f'Validation {metric}')\n",
    "    plt.scatter(best_epochs[metric], best_values[metric], s=150, c='blue', \n",
    "                label=f'Best epoch = {best_epochs[metric]}')\n",
    "    \n",
    "    plt.title(f'Training and Validation {metric.title()}')\n",
    "    plt.xlabel('Epochs')\n",
    "    plt.ylabel(metric.title())\n",
    "    plt.legend()\n",
    "    plt.grid(True)\n",
    "\n",
    "plt.suptitle('Model Training Metrics Over Epochs', fontsize=16)\n",
    "plt.tight_layout()\n",
    "plt.show()"
   ]
  },
  {
   "cell_type": "code",
   "execution_count": null,
   "metadata": {},
   "outputs": [],
   "source": [
    "train_score = cnm_model.evaluate(tr_gen, verbose=1)\n",
    "valid_score = cnm_model.evaluate(valid_gen, verbose=1)\n",
    "test_score = cnm_model.evaluate(ts_gen, verbose=1)\n",
    "\n",
    "print(f\"Training Accuracy: {train_score[1]*100:.2f}%\")\n",
    "print(f\"Validation Loss: {valid_score[0]:.4f}\")\n",
    "print(f\"\\n\\nValidation Accuracy: {valid_score[1]*100:.2f}%\")\n",
    "print(f\"Validation Loss: {valid_score[0]:.4f}\")\n",
    "print(f\"\\n\\nTest Accuracy: {test_score[1]*100:.2f}%\")\n",
    "print(f\"Testing Loss: {test_score[0]:.4f}\")\n"
   ]
  },
  {
   "cell_type": "code",
   "execution_count": null,
   "metadata": {},
   "outputs": [],
   "source": [
    "preds = cnm_model.predict(ts_gen)\n",
    "y_pred = np.argmax(preds, axis=1)\n",
    "\n",
    "class_dict = {\n",
    "  0: 'glioma',\n",
    "  1: 'meningioma',\n",
    "  2: 'no_tumor',\n",
    "  3: 'pituitary'\n",
    "}\n",
    "\n",
    "# Then create a display the confusion matrix\n",
    "cm = confusion_matrix(ts_gen.classes, y_pred)\n",
    "labels = list(class_dict.keys())\n",
    "plt.figure(figsize=(10, 8))\n",
    "sns.heatmap(cm, annot=True, fmt='d', cmap='Blues', xticklabels=labels, yticklabels=labels)\n",
    "plt.xlabel('Predicted Label')\n",
    "plt.ylabel('True Label')\n",
    "plt.title('Confusion Matrix')\n",
    "plt.show()"
   ]
  },
  {
   "cell_type": "code",
   "execution_count": null,
   "metadata": {},
   "outputs": [],
   "source": [
    "clr = classification_report(ts_gen.classes, y_pred)\n",
    "print(clr)"
   ]
  },
  {
   "cell_type": "code",
   "execution_count": 64,
   "metadata": {},
   "outputs": [],
   "source": [
    "cnm_model.save_weights(\"cnm_model.weights.h5\")"
   ]
  }
 ],
 "metadata": {
  "kernelspec": {
   "display_name": "Python (tumor-classification)",
   "language": "python",
   "name": "tumor-classification"
  },
  "language_info": {
   "codemirror_mode": {
    "name": "ipython",
    "version": 3
   },
   "file_extension": ".py",
   "mimetype": "text/x-python",
   "name": "python",
   "nbconvert_exporter": "python",
   "pygments_lexer": "ipython3",
   "version": "3.10.15"
  }
 },
 "nbformat": 4,
 "nbformat_minor": 2
}
